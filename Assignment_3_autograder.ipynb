{
 "cells": [
  {
   "cell_type": "code",
   "execution_count": 1,
   "metadata": {
    "colab": {
     "base_uri": "https://localhost:8080/",
     "height": 77
    },
    "executionInfo": {
     "elapsed": 5849,
     "status": "ok",
     "timestamp": 1730161054743,
     "user": {
      "displayName": "Shiyuan Zhou",
      "userId": "05538655150477193588"
     },
     "user_tz": 420
    },
    "id": "yjuNb640HvaQ",
    "outputId": "92bb1d86-58f5-4177-f21f-4dc0a65df7ae"
   },
   "outputs": [
    {
     "ename": "ModuleNotFoundError",
     "evalue": "No module named 'google.colab'",
     "output_type": "error",
     "traceback": [
      "\u001b[1;31m---------------------------------------------------------------------------\u001b[0m",
      "\u001b[1;31mModuleNotFoundError\u001b[0m                       Traceback (most recent call last)",
      "Cell \u001b[1;32mIn[1], line 2\u001b[0m\n\u001b[0;32m      1\u001b[0m \u001b[38;5;66;03m# Step 1: Upload required files: \"requirements.txt , sample220P.db\"\u001b[39;00m\n\u001b[1;32m----> 2\u001b[0m \u001b[38;5;28;01mfrom\u001b[39;00m \u001b[38;5;21;01mgoogle\u001b[39;00m\u001b[38;5;21;01m.\u001b[39;00m\u001b[38;5;21;01mcolab\u001b[39;00m \u001b[38;5;28;01mimport\u001b[39;00m files\n\u001b[0;32m      3\u001b[0m uploaded \u001b[38;5;241m=\u001b[39m files\u001b[38;5;241m.\u001b[39mupload()\n",
      "\u001b[1;31mModuleNotFoundError\u001b[0m: No module named 'google.colab'"
     ]
    }
   ],
   "source": [
    "# Step 1: Upload required files: \"requirements.txt , sample220P.db\"\n",
    "# from google.colab import files\n",
    "# uploaded = files.upload()\n",
    "\n",
    "# The files uploaded will be available in the Colab environment"
   ]
  },
  {
   "cell_type": "code",
   "execution_count": 38,
   "metadata": {
    "id": "1n7HQffkCRJK"
   },
   "outputs": [],
   "source": [
    "# Step 2: Install required packages\n",
    "# !pip install -r requirements.txt\n"
   ]
  },
  {
   "cell_type": "code",
   "execution_count": 39,
   "metadata": {
    "colab": {
     "base_uri": "https://localhost:8080/"
    },
    "executionInfo": {
     "elapsed": 198,
     "status": "ok",
     "timestamp": 1730161059461,
     "user": {
      "displayName": "Shiyuan Zhou",
      "userId": "05538655150477193588"
     },
     "user_tz": 420
    },
    "id": "w-eVlo_Qi8mG",
    "outputId": "f670aed1-1806-41eb-f1b6-a3657cc2e1ec"
   },
   "outputs": [],
   "source": [
    "# Step 3: Import your expressions\n",
    "from assign_expressions import Expressions\n"
   ]
  },
  {
   "cell_type": "code",
   "execution_count": 40,
   "metadata": {
    "id": "ji4PxU5-DZ09"
   },
   "outputs": [],
   "source": [
    "# These are the tests, do not modify\n",
    "import unittest\n",
    "from gradescope_utils.autograder_utils.decorators import weight, number\n",
    "import sqlite3\n",
    "from relational_algebra import *\n",
    "\n",
    "class TestRelationalAlgebraQueries(unittest.TestCase):\n",
    "    def setUp(self):\n",
    "        self.sqlconnection = sqlite3.connect(\"sample220P.db\")\n",
    "        self.expressions = Expressions()\n",
    "\n",
    "\n",
    "    def test_sample_query(self):\n",
    "        result = self.expressions.sample_query.evaluate(sql_con=self.sqlconnection)\n",
    "        result_intermediate = {('PODS', 'A*'), ('VLDB', 'A*'), ('SIGMOD', 'A*'), ('ICDE', 'A*')}\n",
    "\n",
    "        try:\n",
    "            self.assertEqual(result.rows, result_intermediate, \"Incorrect Query\")\n",
    "        except:\n",
    "            raise Exception(\"Incorrect Query\")\n",
    "            \n",
    "    # def test_Expression(self):\n",
    "    #         result = self.expressions.expression1.evaluate(sql_con = self.sqlconnection)\n",
    "    #         try:\n",
    "    #             print(result)\n",
    "    #         except:\n",
    "    #             raise Exception(\"Incorrect Query\")"
   ]
  },
  {
   "cell_type": "code",
   "execution_count": 41,
   "metadata": {
    "colab": {
     "base_uri": "https://localhost:8080/"
    },
    "executionInfo": {
     "elapsed": 183,
     "status": "ok",
     "timestamp": 1730161090464,
     "user": {
      "displayName": "Shiyuan Zhou",
      "userId": "05538655150477193588"
     },
     "user_tz": 420
    },
    "id": "IyS91eI_CxlM",
    "outputId": "58e97144-c82f-4c38-a060-37cd8ff61dac"
   },
   "outputs": [
    {
     "name": "stderr",
     "output_type": "stream",
     "text": [
      "test_sample_query (__main__.TestRelationalAlgebraQueries.test_sample_query) ... ok\n",
      "\n",
      "----------------------------------------------------------------------\n",
      "Ran 1 test in 0.011s\n",
      "\n",
      "OK\n"
     ]
    },
    {
     "data": {
      "text/plain": [
       "<unittest.runner.TextTestResult run=1 errors=0 failures=0>"
      ]
     },
     "execution_count": 41,
     "metadata": {},
     "output_type": "execute_result"
    }
   ],
   "source": [
    "# Step 4: Run the unit tests and display results\n",
    "suite = unittest.TestLoader().loadTestsFromTestCase(TestRelationalAlgebraQueries)\n",
    "unittest.TextTestRunner(verbosity=2).run(suite)\n"
   ]
  },
  {
   "cell_type": "code",
   "execution_count": 34,
   "metadata": {},
   "outputs": [
    {
     "name": "stdout",
     "output_type": "stream",
     "text": [
      "None\n"
     ]
    }
   ],
   "source": [
    "for test in suite:\n",
    "    print(test)"
   ]
  },
  {
   "cell_type": "markdown",
   "metadata": {
    "id": "IsaqCiNvjmB-"
   },
   "source": [
    "**Please submit the .py file on gradescope**"
   ]
  }
 ],
 "metadata": {
  "colab": {
   "provenance": []
  },
  "kernelspec": {
   "display_name": "Python 3 (ipykernel)",
   "language": "python",
   "name": "python3"
  },
  "language_info": {
   "codemirror_mode": {
    "name": "ipython",
    "version": 3
   },
   "file_extension": ".py",
   "mimetype": "text/x-python",
   "name": "python",
   "nbconvert_exporter": "python",
   "pygments_lexer": "ipython3",
   "version": "3.11.7"
  }
 },
 "nbformat": 4,
 "nbformat_minor": 4
}
