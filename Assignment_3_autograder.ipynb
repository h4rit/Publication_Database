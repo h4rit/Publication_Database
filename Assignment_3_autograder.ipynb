{
 "cells": [
  {
   "cell_type": "code",
   "execution_count": 1,
   "metadata": {
    "colab": {
     "base_uri": "https://localhost:8080/",
     "height": 77
    },
    "executionInfo": {
     "elapsed": 5849,
     "status": "ok",
     "timestamp": 1730161054743,
     "user": {
      "displayName": "Shiyuan Zhou",
      "userId": "05538655150477193588"
     },
     "user_tz": 420
    },
    "id": "yjuNb640HvaQ",
    "outputId": "92bb1d86-58f5-4177-f21f-4dc0a65df7ae"
   },
   "outputs": [],
   "source": [
    "# Step 1: Upload required files: \"requirements.txt , sample220P.db\"\n",
    "# from google.colab import files\n",
    "# uploaded = files.upload()\n",
    "\n",
    "# The files uploaded will be available in the Colab environment"
   ]
  },
  {
   "cell_type": "code",
   "execution_count": 2,
   "metadata": {
    "id": "1n7HQffkCRJK"
   },
   "outputs": [
    {
     "name": "stdout",
     "output_type": "stream",
     "text": [
      "Requirement already satisfied: dbis-relational-algebra==1.1.5 in c:\\users\\harit\\anaconda3\\lib\\site-packages (from -r requirements.txt (line 1)) (1.1.5)\n",
      "Requirement already satisfied: docstring-inheritance==2.0.2 in c:\\users\\harit\\anaconda3\\lib\\site-packages (from -r requirements.txt (line 2)) (2.0.2)\n",
      "Requirement already satisfied: gradescope-utils==0.5.0 in c:\\users\\harit\\anaconda3\\lib\\site-packages (from -r requirements.txt (line 3)) (0.5.0)\n",
      "Requirement already satisfied: numpy==1.26.1 in c:\\users\\harit\\anaconda3\\lib\\site-packages (from -r requirements.txt (line 4)) (1.26.1)\n",
      "Requirement already satisfied: pandas==2.1.1 in c:\\users\\harit\\anaconda3\\lib\\site-packages (from -r requirements.txt (line 5)) (2.1.1)\n",
      "Requirement already satisfied: python-dateutil==2.8.2 in c:\\users\\harit\\anaconda3\\lib\\site-packages (from -r requirements.txt (line 6)) (2.8.2)\n",
      "Requirement already satisfied: pytz==2023.3.post1 in c:\\users\\harit\\anaconda3\\lib\\site-packages (from -r requirements.txt (line 7)) (2023.3.post1)\n",
      "Requirement already satisfied: six==1.16.0 in c:\\users\\harit\\anaconda3\\lib\\site-packages (from -r requirements.txt (line 8)) (1.16.0)\n",
      "Requirement already satisfied: typeguard==4.1.5 in c:\\users\\harit\\anaconda3\\lib\\site-packages (from -r requirements.txt (line 9)) (4.1.5)\n",
      "Requirement already satisfied: typing_extensions==4.8.0 in c:\\users\\harit\\anaconda3\\lib\\site-packages (from -r requirements.txt (line 10)) (4.8.0)\n",
      "Requirement already satisfied: tzdata==2023.3 in c:\\users\\harit\\anaconda3\\lib\\site-packages (from -r requirements.txt (line 11)) (2023.3)\n"
     ]
    }
   ],
   "source": [
    "# Step 2: Install required packages\n",
    "!pip install -r requirements.txt\n"
   ]
  },
  {
   "cell_type": "code",
   "execution_count": 3,
   "metadata": {
    "colab": {
     "base_uri": "https://localhost:8080/"
    },
    "executionInfo": {
     "elapsed": 198,
     "status": "ok",
     "timestamp": 1730161059461,
     "user": {
      "displayName": "Shiyuan Zhou",
      "userId": "05538655150477193588"
     },
     "user_tz": 420
    },
    "id": "w-eVlo_Qi8mG",
    "outputId": "f670aed1-1806-41eb-f1b6-a3657cc2e1ec"
   },
   "outputs": [
    {
     "name": "stdout",
     "output_type": "stream",
     "text": [
      "{('Brown University',), ('University of Virginia',), ('Duke University',), ('Vanderbilt University',), ('University of Southern California',), ('California Institute of Technology',), ('Yale University',), ('Columbia University',), ('University of Notre Dame',), ('Princeton University',), ('University of California, San Diego',), ('University of California, Davis',), ('Stanford University',), ('University of California, Berkeley',), ('Massachusetts Institute of Technology',), ('Georgetown University',), ('University of Florida',), ('Dartmouth College',), ('University of Texas at Austin',), ('University of California, Los Angeles',), ('Cornell University',), ('Carnegie Mellon University',), ('Emory University',), ('University of North Carolina at Chapel Hill',), ('University of Chicago',), ('University of Pennsylvania',), ('Johns Hopkins University',), ('Washington University in St. Louis',), ('Harvard University',), ('Northwestern University',), ('University of Michigan--Ann Arbor',), ('Rice University',)}\n"
     ]
    },
    {
     "name": "stderr",
     "output_type": "stream",
     "text": [
      "c:\\Users\\Harit\\anaconda3\\Lib\\site-packages\\relational_algebra\\operators\\Relation.py:159: FutureWarning: The behavior of DataFrame concatenation with empty or all-NA entries is deprecated. In a future version, this will no longer exclude empty or all-NA columns when determining the result dtypes. To retain the old behavior, exclude the relevant entries before the concat operation.\n",
      "  pd.concat(\n"
     ]
    }
   ],
   "source": [
    "# Step 3: Import your expressions\n",
    "from assign_expressions import Expressions\n"
   ]
  },
  {
   "cell_type": "code",
   "execution_count": null,
   "metadata": {},
   "outputs": [],
   "source": []
  },
  {
   "cell_type": "code",
   "execution_count": 4,
   "metadata": {
    "id": "ji4PxU5-DZ09"
   },
   "outputs": [],
   "source": [
    "import unittest\n",
    "import sqlite3\n",
    "from relational_algebra import *\n",
    "# These are the tests, do not modify\n",
    "class TestRelationalAlgebraQueries(unittest.TestCase):\n",
    "    def setUp(self):\n",
    "        self.sqlconnection = sqlite3.connect(\"sample220P.db\")\n",
    "        self.expressions = Expressions()\n",
    "\n",
    "\n",
    "    def test_sample_query(self):\n",
    "        result = self.expressions.sample_query.evaluate(sql_con=self.sqlconnection)\n",
    "        result_intermediate = {('PODS', 'A*'), ('VLDB', 'A*'), ('SIGMOD', 'A*'), ('ICDE', 'A*')}\n",
    "\n",
    "        try:\n",
    "            self.assertEqual(result.rows, result_intermediate, \"Incorrect Query\")\n",
    "        except:\n",
    "            raise Exception(\"Incorrect Query\")\n",
    "\n",
    "    def test_expression1(self):\n",
    "        result = self.expressions.expression1.evaluate(sql_con=self.sqlconnection)\n",
    "        result_intermediate = {('Ion Stoica', 'VLDB', 2020, 1), ('Ion Stoica', 'VLDB', 2021, 3), ('Matei Zaharia', 'SIGMOD', 2022, 3), ('Matei Zaharia', 'VLDB', 2022, 2), ('Natacha Crooks', 'VLDB', 2022, 2), ('Ion Stoica', 'VLDB', 2022, 1), ('Joseph M. Hellerstein', 'VLDB', 2022, 1), ('Anthony D. Joseph', 'VLDB', 2021, 1), ('Aditya G. Parameswaran', 'VLDB', 2021, 4), ('Joseph Gonzalez 0001', 'VLDB', 2020, 3), ('Joseph M. Hellerstein', 'SIGMOD', 2020, 1), ('Koushik Sen', 'VLDB', 2020, 1), ('Dawn Song', 'SIGMOD', 2020, 1), ('Joseph Gonzalez 0001', 'VLDB', 2021, 1), ('Dawn Song', 'ICDE', 2021, 1), ('Matei Zaharia', 'VLDB', 2020, 3), ('Joseph M. Hellerstein', 'VLDB', 2020, 3), ('Matei Zaharia', 'VLDB', 2021, 2), ('Aditya G. Parameswaran', 'SIGMOD', 2021, 1), ('Aditya G. Parameswaran', 'VLDB', 2022, 2), ('Aditya G. Parameswaran', 'SIGMOD', 2020, 2), ('Marti A. Hearst', 'VLDB', 2021, 1), ('Jelani Nelson', 'PODS', 2022, 1), ('Joseph M. Hellerstein', 'VLDB', 2021, 1), ('Anthony D. Joseph', 'VLDB', 2020, 1), ('Natacha Crooks', 'VLDB', 2021, 1), ('Aditya G. Parameswaran', 'ICDE', 2021, 1), ('Ion Stoica', 'SIGMOD', 2022, 1), ('Aditya G. Parameswaran', 'VLDB', 2020, 1)}\n",
    "        try:\n",
    "            self.assertEqual(result.rows, result_intermediate, \"Incorrect Query\")\n",
    "        except:\n",
    "            raise Exception(\"Incorrect Query\")\n",
    "\n",
    "    def test_expression2(self):\n",
    "        result = self.expressions.expression2.evaluate(sql_con=self.sqlconnection)\n",
    "        result_intermediate = {('VIS',), ('PODS',), ('VR',)}\n",
    "        try:\n",
    "            self.assertEqual(result.rows, result_intermediate, \"Incorrect Query\")\n",
    "        except:\n",
    "            raise Exception(\"Incorrect Query\")\n",
    "\n",
    "    # def test_expression3(self):\n",
    "    #     result = self.expressions.expression3.evaluate(sql_con=self.sqlconnection)\n",
    "    #     result_intermediate = {('ICDE', 2022, 'Michael J. Carey 0001', 'University of California, Irvine'), ('SIGMOD', 2022, 'Matei Zaharia', 'University of California, Berkeley'), ('SIGMOD', 2021, 'Sharad Mehrotra', 'University of California, Irvine'), ('VLDB', 2020, 'Joseph M. Hellerstein', 'University of California, Berkeley'), ('VLDB', 2020, 'Sharad Mehrotra', 'University of California, Irvine'), ('SIGMOD', 2020, 'Aditya G. Parameswaran', 'University of California, Berkeley'), ('SIGMOD', 2021, 'Xiao Wang 0012', 'Northwestern University'), ('ICDE', 2022, 'Faisal Nawab', 'University of California, Irvine'), ('VLDB', 2020, 'Joseph Gonzalez 0001', 'University of California, Berkeley'), ('PODS', 2022, 'Jelani Nelson', 'University of California, Berkeley'), ('VLDB', 2022, 'Sharad Mehrotra', 'University of California, Irvine'), ('SIGMOD', 2020, 'Andrew Crotty', 'Northwestern University'), ('VLDB', 2021, 'Aditya G. Parameswaran', 'University of California, Berkeley'), ('ICDE', 2020, 'Andrew Crotty', 'Northwestern University'), ('PODS', 2021, 'Caleb Stanford', 'University of California, Davis'), ('ICDE', 2021, 'Faisal Nawab', 'University of California, Irvine'), ('ICDE', 2020, 'Sharad Mehrotra', 'University of California, Irvine'), ('VLDB', 2020, 'Matei Zaharia', 'University of California, Berkeley'), ('VLDB', 2020, 'Michael J. Carey 0001', 'University of California, Irvine'), ('SIGMOD', 2021, 'Aditya G. Parameswaran', 'University of California, Berkeley'), ('SIGMOD', 2021, 'Jennie Rogers', 'Northwestern University')}\n",
    "    #     try:\n",
    "    #         self.assertEqual(result.rows, result_intermediate, \"Incorrect Query\")\n",
    "    #     except:\n",
    "    #         raise Exception(\"Incorrect Query\")\n",
    "\n",
    "    def test_expression4(self):\n",
    "        result = self.expressions.expression4.evaluate(sql_con=self.sqlconnection)\n",
    "        result_intermediate = {('University of California, Berkeley',), ('University of California, Davis',)}\n",
    "        try:\n",
    "            self.assertEqual(result.rows, result_intermediate, \"Incorrect Query\")\n",
    "        except:\n",
    "            raise Exception(\"Incorrect Query\")\n",
    "\n",
    "    def test_expression5(self):\n",
    "        result = self.expressions.expression5.evaluate(sql_con=self.sqlconnection)\n",
    "        result_intermediate = {('Harvard University',), ('Carnegie Mellon University',), ('Brown University',), ('University of Chicago',), ('Emory University',), ('University of Florida',), ('University of Notre Dame',), ('Georgetown University',), ('University of Pennsylvania',), ('Stanford University',), ('University of California, Los Angeles',), ('Columbia University',), ('University of Michigan--Ann Arbor',), ('Washington University in St. Louis',), ('University of Virginia',), ('Princeton University',), ('Yale University',), ('California Institute of Technology',), ('Rice University',), ('University of North Carolina at Chapel Hill',), ('University of Texas at Austin',), ('University of California, San Diego',), ('Johns Hopkins University',), ('Duke University',), ('Vanderbilt University',), ('University of Southern California',), ('Cornell University',), ('Dartmouth College',), ('Massachusetts Institute of Technology',)}\n",
    "        try:\n",
    "            self.assertEqual(result.rows, result_intermediate, \"Incorrect Query\")\n",
    "        except:\n",
    "            raise Exception(\"Incorrect Query\")\n",
    "\n",
    "\n"
   ]
  },
  {
   "cell_type": "code",
   "execution_count": 5,
   "metadata": {
    "colab": {
     "base_uri": "https://localhost:8080/"
    },
    "executionInfo": {
     "elapsed": 183,
     "status": "ok",
     "timestamp": 1730161090464,
     "user": {
      "displayName": "Shiyuan Zhou",
      "userId": "05538655150477193588"
     },
     "user_tz": 420
    },
    "id": "IyS91eI_CxlM",
    "outputId": "58e97144-c82f-4c38-a060-37cd8ff61dac"
   },
   "outputs": [
    {
     "name": "stderr",
     "output_type": "stream",
     "text": [
      "test_expression1 (__main__.TestRelationalAlgebraQueries.test_expression1) ... c:\\Users\\Harit\\anaconda3\\Lib\\site-packages\\relational_algebra\\operators\\Relation.py:159: FutureWarning: The behavior of DataFrame concatenation with empty or all-NA entries is deprecated. In a future version, this will no longer exclude empty or all-NA columns when determining the result dtypes. To retain the old behavior, exclude the relevant entries before the concat operation.\n",
      "  pd.concat(\n",
      "ok\n",
      "test_expression2 (__main__.TestRelationalAlgebraQueries.test_expression2) ... c:\\Users\\Harit\\anaconda3\\Lib\\site-packages\\relational_algebra\\operators\\Relation.py:159: FutureWarning: The behavior of DataFrame concatenation with empty or all-NA entries is deprecated. In a future version, this will no longer exclude empty or all-NA columns when determining the result dtypes. To retain the old behavior, exclude the relevant entries before the concat operation.\n",
      "  pd.concat(\n",
      "ok\n",
      "test_expression4 (__main__.TestRelationalAlgebraQueries.test_expression4) ... c:\\Users\\Harit\\anaconda3\\Lib\\site-packages\\relational_algebra\\operators\\Relation.py:159: FutureWarning: The behavior of DataFrame concatenation with empty or all-NA entries is deprecated. In a future version, this will no longer exclude empty or all-NA columns when determining the result dtypes. To retain the old behavior, exclude the relevant entries before the concat operation.\n",
      "  pd.concat(\n",
      "ok\n",
      "test_expression5 (__main__.TestRelationalAlgebraQueries.test_expression5) ... ERROR\n",
      "test_sample_query (__main__.TestRelationalAlgebraQueries.test_sample_query) ... ok\n",
      "\n",
      "======================================================================\n",
      "ERROR: test_expression5 (__main__.TestRelationalAlgebraQueries.test_expression5)\n",
      "----------------------------------------------------------------------\n",
      "Traceback (most recent call last):\n",
      "  File \"C:\\Users\\Harit\\AppData\\Local\\Temp\\ipykernel_60076\\469684535.py\", line 56, in test_expression5\n",
      "    self.assertEqual(result.rows, result_intermediate, \"Incorrect Query\")\n",
      "AssertionError: Items in the first set but not the second:\n",
      "('University of California, Davis',)\n",
      "('Northwestern University',)\n",
      "('University of California, Berkeley',) : Incorrect Query\n",
      "\n",
      "During handling of the above exception, another exception occurred:\n",
      "\n",
      "Traceback (most recent call last):\n",
      "  File \"C:\\Users\\Harit\\AppData\\Local\\Temp\\ipykernel_60076\\469684535.py\", line 58, in test_expression5\n",
      "    raise Exception(\"Incorrect Query\")\n",
      "Exception: Incorrect Query\n",
      "\n",
      "----------------------------------------------------------------------\n",
      "Ran 5 tests in 0.551s\n",
      "\n",
      "FAILED (errors=1)\n"
     ]
    },
    {
     "data": {
      "text/plain": [
       "<unittest.runner.TextTestResult run=5 errors=1 failures=0>"
      ]
     },
     "execution_count": 5,
     "metadata": {},
     "output_type": "execute_result"
    }
   ],
   "source": [
    "# Step 4: Run the unit tests and display results\n",
    "suite = unittest.TestLoader().loadTestsFromTestCase(TestRelationalAlgebraQueries)\n",
    "unittest.TextTestRunner(verbosity=2).run(suite)\n"
   ]
  },
  {
   "cell_type": "markdown",
   "metadata": {
    "id": "IsaqCiNvjmB-"
   },
   "source": [
    "**Please submit the .py file on gradescope**"
   ]
  },
  {
   "cell_type": "markdown",
   "metadata": {},
   "source": []
  }
 ],
 "metadata": {
  "colab": {
   "provenance": []
  },
  "kernelspec": {
   "display_name": "base",
   "language": "python",
   "name": "python3"
  },
  "language_info": {
   "codemirror_mode": {
    "name": "ipython",
    "version": 3
   },
   "file_extension": ".py",
   "mimetype": "text/x-python",
   "name": "python",
   "nbconvert_exporter": "python",
   "pygments_lexer": "ipython3",
   "version": "3.11.7"
  }
 },
 "nbformat": 4,
 "nbformat_minor": 4
}
